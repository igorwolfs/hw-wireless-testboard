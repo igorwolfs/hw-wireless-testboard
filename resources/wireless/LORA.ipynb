{
 "cells": [
  {
   "cell_type": "markdown",
   "id": "c231722f-c6d7-4d26-a5b8-6e9fbf772bcd",
   "metadata": {},
   "source": [
    "# Design"
   ]
  },
  {
   "cell_type": "markdown",
   "id": "44079503-5e7a-491a-ba05-9c642d429b97",
   "metadata": {},
   "source": [
    "There's plenty of lorawan chips on the market, take a look at the semtech-website to check them out. All other lora-modules out there are integrated versions of one of these semtech modules (e.g.: LLCC68 -> DL-LLCC68, sx127x, sx126x, "
   ]
  },
  {
   "cell_type": "markdown",
   "id": "655e603e-75bf-42a7-8073-9e4e8df6cac8",
   "metadata": {},
   "source": [
    "# LLCC68\n",
    "This forms the basis for plenty of modules, such as the DL-LLC68_s module: \\\n",
    "<img src=\"../images/wireless/lora_DL-LLCC68-S-868S.png\" width=600 />"
   ]
  },
  {
   "cell_type": "code",
   "execution_count": null,
   "id": "c63c92ae-2cd3-4c9e-a854-658afed6b8b4",
   "metadata": {},
   "outputs": [],
   "source": []
  },
  {
   "cell_type": "markdown",
   "id": "3d7cf120-034a-4ea9-9dea-9483a877a4bd",
   "metadata": {},
   "source": [
    "Example schematic:lora_semtech_llc68_ex.png\n",
    "<img src=\"../images/wireless/lora_semtech_llc68_ex.png\" width=700 />"
   ]
  },
  {
   "cell_type": "markdown",
   "id": "ac689a9d-91b7-49dc-af5c-147b5f076f33",
   "metadata": {},
   "source": [
    "## Block Diagram"
   ]
  },
  {
   "cell_type": "markdown",
   "id": "f8260540-f534-486f-bb76-fb4cb6776c96",
   "metadata": {},
   "source": [
    "Components:\n",
    "1. Front-end\n",
    "2. Digital modem, with modulation options: LoRa (BW: 125, 250, 500 kHz), (G)FSK\n",
    "3. Digital interface and control through SPI\n",
    "4. Power distribution (DC-DC and linear regulator), depending on efficiency and other req.\n",
    "<img src=\"../images/wireless/lora_semtech_llc68_bd.png\" width=700 />"
   ]
  },
  {
   "cell_type": "markdown",
   "id": "e57b8349-a17c-4eb0-a4ec-7111690f9b6e",
   "metadata": {},
   "source": [
    "## Crystal\n",
    "### External oscillator requirements\n",
    "See table 3-4: crystal specifications\n",
    "- Frequency: 32 MHz\n",
    "- Load capacitance: 10 pF\n",
    "- Shunt capacitance: 0.3-2 pF (typical 0.6)\n",
    "- Rseries: 30 ohms (typical)\n",
    "- Driver level: 100 uW (typical)\n",
    "- Crystal motion capcitance: 1.3 - 2.5 fF\n",
    "- Max trimming compensation: 15-30 ppm\n",
    "\n",
    "### Internal oscillators\n",
    "- 64 kHz (Used for wake-up, and other commands referenced as RTC)\n",
    "- 13 MHz (SPI communication without activating the 32 MHz ext. clock)\n",
    "\n",
    "#### Design\n",
    "\n",
    "**2 Options:**\n",
    "- TCXO (Temperature compensated crystal oscillator) supplied by internal regulator [extreme cases, check 4.1.4]\n",
    "- OSC (on-chip crystal oscillator using an external crystal resonator)\n",
    "\n",
    "**Solving drift:**\n",
    "- total frequency drift should be minimized [lower than freq_drift_max = BW_L / (3*2**SF)]\n",
    "\n",
    "**Control block:**\n",
    "External foot capacitors are not required for the 32 MHz clock.\n",
    "- There are capacitances on XTA and XTB settable between: 11.3 pF - 33.4 pF\n",
    "- The steps are 0.47 pF"
   ]
  },
  {
   "cell_type": "code",
   "execution_count": 14,
   "id": "d2f826a7-de2f-48c0-864c-e13d94c622ce",
   "metadata": {},
   "outputs": [],
   "source": [
    "### Crystal resonator choice: X322532MOB4SI (18 was the other one\n",
    "# Datasheet: https://www.micros.com.pl/mediaserver/Q32.000_3.2x2.5_0006.pdf\n",
    "R_SHUNT = 40 #  Ohms\n",
    "C_L = 12e-12 # Load capacitance in F\n",
    "C_shunt = 7e-12 # Shunt capacitance in F\n",
    "f_stability = 20 # PPM\n",
    "f_temp = 10 # PPM\n",
    "f_aging = 3 # PPM per year\n",
    "freq = 32e6 # Frequency in Hz\n",
    "drive_level = 100e-6 # Max in Watts\n",
    "\n",
    "# MCU pin capacitance\n",
    "## Stray capacitanc\n",
    "C_S = 5e-12 # Stray capacitance (pin and board capacitance), assumption"
   ]
  },
  {
   "cell_type": "code",
   "execution_count": 15,
   "id": "d4f16575-ab6e-4a11-9f5e-44928786b83c",
   "metadata": {},
   "outputs": [
    {
     "name": "stdout",
     "output_type": "stream",
     "text": [
      "Load capacitances: Cl1 14.000000000000002pF, Cl2 14.000000000000002pF\n"
     ]
    }
   ],
   "source": [
    "### Calcualting necessary load capacitance\n",
    "### Example calculation: ABLS-8.000MHZ-20-B-3-H-T\n",
    "# Assume C_L1 = C_L2\n",
    "C_L1 = (C_L - C_S)*2\n",
    "C_L2 = C_L1\n",
    "print(f\"Load capacitances: Cl1 {C_L1*1e12}pF, Cl2 {C_L2*1e12}pF\")\n",
    "# Load capacitances can simply be set between 11.3-33.4 pF, so OK"
   ]
  },
  {
   "cell_type": "code",
   "execution_count": 4,
   "id": "1e93aeea-d827-42f9-bce6-ee9597cacad4",
   "metadata": {},
   "outputs": [
    {
     "data": {
      "text/plain": [
       "-10.5"
      ]
     },
     "execution_count": 4,
     "metadata": {},
     "output_type": "execute_result"
    }
   ],
   "source": [
    "15 / 2 - 18 # So load capacitance is seena s being 10 pF??"
   ]
  },
  {
   "cell_type": "markdown",
   "id": "c88fe056-cf0c-4dec-9522-2ec951b704b8",
   "metadata": {},
   "source": [
    "**Source:**\n",
    "> https://ecsxtal.com/124-quartz-crystal-design-parameters/#:~:text=The%20motional%20capacitance%20(C1)%2C,as%20illustrated%20in%20Figure%20D.\n"
   ]
  },
  {
   "cell_type": "markdown",
   "id": "f90e18ed-d407-467f-83af-9c5f0c54f715",
   "metadata": {},
   "source": [
    "## Power\n",
    "**Choice between:**\n",
    "- a DC-DC buck converter (optional)\n",
    "- an LDO (always present)\n",
    "**Supply Current:**\n",
    "- RX-mode: max 10.1 mA\n",
    "- TX-mode: max 118 mA (22 dBm)\n",
    "**Supply pins:**\n",
    "- One can connect both\n",
    "- At any time VBAT_IO <= VBAT (MUST BE!!!)\n",
    "\n",
    "\n",
    "### Supply Voltage\n",
    "- VBAT_IO = 3.3 V (Supply for digital I/O interface pin, except DIO3)\n",
    "- VBAT = 3.3 V (Supply for RFIC)\n",
    "#### DC-DC Supply\n",
    "- STDBY_XOSC: frequency: 3.25 MHz OR 5 MHz\n",
    "- Power consumption is reduced (current consumption almost halved!)\n",
    "- 47 nH before pin 1, 15 uH inductor between pins 7 and 9\n",
    "- Current use: max 120 mA (so take 150 mA) through inductor.\n",
    "  \n",
    "#### LDO\n",
    "- Higher power consumption\n",
    "- No 15 uH inductor is required\n",
    "- Maintains DC-DC converter stability"
   ]
  },
  {
   "cell_type": "code",
   "execution_count": null,
   "id": "2d40e8c8-7b3b-4be4-826e-495c7237bac2",
   "metadata": {},
   "outputs": [],
   "source": []
  },
  {
   "cell_type": "code",
   "execution_count": null,
   "id": "154527e5-5c5e-4cf0-b527-71818c422df2",
   "metadata": {},
   "outputs": [],
   "source": []
  },
  {
   "cell_type": "markdown",
   "id": "bbf5f674-1201-4db9-8a85-47f5d5c4791b",
   "metadata": {},
   "source": [
    "## Impedance / Matching\n",
    "- Transmit output power: defined into 50 ohm load impedance)\n",
    "- Internal RF circuits matched"
   ]
  },
  {
   "cell_type": "code",
   "execution_count": null,
   "id": "dadbb6c9-1188-44f8-9f4a-9022acbf1856",
   "metadata": {},
   "outputs": [],
   "source": []
  },
  {
   "cell_type": "markdown",
   "id": "3b83b937-7f64-4dac-978c-879fe3dc8e26",
   "metadata": {},
   "source": [
    "## Receive-Transmit specifications\n",
    "**Bandwidth:**\n",
    "- 125, 250 and 500 kHz can be the BW's depending on the spreading factor."
   ]
  },
  {
   "cell_type": "markdown",
   "id": "cd83a758-f1b7-42ee-b95b-57f684166977",
   "metadata": {},
   "source": [
    "### Receive\n",
    "- LoRa-sensitivity -129 dBm ... -117 dBm\n"
   ]
  },
  {
   "cell_type": "code",
   "execution_count": null,
   "id": "0341f9fb-b268-4a9a-bad7-17825f3418fd",
   "metadata": {},
   "outputs": [],
   "source": []
  },
  {
   "cell_type": "markdown",
   "id": "1c83ddab-5a7d-496a-9b6a-ded207d53c01",
   "metadata": {},
   "source": [
    "## Transmit\n",
    "- RF max output power: 22dBm\n",
    "- RF-output range: TX_MAX_OUT - 31 ... TX_MAX_OUT (so 22 dBm)\n",
    "\n",
    "### Power supply\n",
    "Power is supplied by the regulaor VR_PA, connection between VR_PA and RFO is done externally to the chip.\n",
    "- VR_PA and RFO are connected externally.\n",
    "- VR_PA is supplied through VDD_IN (taken from the battery). The max voltage is limited by this supply."
   ]
  },
  {
   "cell_type": "code",
   "execution_count": null,
   "id": "c749f304-9b50-4696-af77-7f85f4d432d8",
   "metadata": {},
   "outputs": [],
   "source": []
  },
  {
   "cell_type": "markdown",
   "id": "b52c7cba-80c6-4f07-a625-4f7fb473bc25",
   "metadata": {},
   "source": [
    "**Source:**\n",
    "> https://circuitcellar.com/research-design-hub/basics-of-design/blocking-and-interference-rejection/#:~:text=Co%2Dchannel%20rejection%20measures%20the,channel%20as%20the%20intended%20signal."
   ]
  },
  {
   "cell_type": "code",
   "execution_count": null,
   "id": "55afa7c3-5d5f-4225-8334-356919d14d7e",
   "metadata": {},
   "outputs": [],
   "source": []
  },
  {
   "cell_type": "markdown",
   "id": "567a66d8-d16f-4b46-93ce-7d3c422242b7",
   "metadata": {},
   "source": [
    "## Digital communication\n",
    "### SPI (8.2.1)\n",
    "- CPOL=0, CPHA=0\n",
    "- Slave-only\n",
    "- Speed up to 16 MHz\n",
    "\n",
    "### Reset\n",
    "Toggling this chip will lead to \n",
    "1. a complete factory reset.\n",
    "2. followed by a standard calibration procedure.\n",
    "\n",
    "### DIO\n",
    "#### BUSY control line\n",
    "- Internal state machine status:\n",
    "    - LOW when idle, radio ready to accept commands\n",
    "- T_SW: time for the BUSY-edge to rise (600 nS max)\n",
    "\n",
    "#### DIO lines\n",
    "**DIO1:**\n",
    "- Generic IRQ line\n",
    "\n",
    "**DIO2:**\n",
    "- Can be configured to drive RF switch\n",
    "- Generic IRQ line\n",
    "\n",
    "**DIO3:**\n",
    "- Generic IRQ line\n",
    "- Automatically control TCXO (Temperature compensated oscillator, 4.1.4)"
   ]
  },
  {
   "cell_type": "markdown",
   "id": "008a9a1e-08ef-4daa-8345-2760c302dc46",
   "metadata": {},
   "source": [
    "<img src=\"../images/wireless/lora_semtech_llc68_dio.png\" width=700 />"
   ]
  },
  {
   "cell_type": "markdown",
   "id": "7dfb5e3b-3b08-4654-b940-6f6255978f76",
   "metadata": {},
   "source": [
    "#### Possible interrupt sources:\n",
    "- TxDone, RxDone, PreambleDetected\n",
    "- HeaderValid, HeaderErr, CrcErr\n",
    "- Channel activity detection done, channel activity detected\n",
    "- Timeout"
   ]
  },
  {
   "cell_type": "code",
   "execution_count": null,
   "id": "258a0555-18d1-4815-aa3c-8ca203178eec",
   "metadata": {},
   "outputs": [],
   "source": []
  },
  {
   "cell_type": "markdown",
   "id": "4158dee7-b991-4992-9322-af49b7996276",
   "metadata": {},
   "source": [
    "**Sources:**\\\n",
    "ElektorMag - LoRaWan options: \n",
    "> <a href = \"../documents/elektormag_EN2023011.pdf\"> elektormag: on lorawan \n",
    "\n",
    "Github examples:\n",
    "> https://github.com/tudsat-rocket/frodom_fancyfins\n",
    "\n",
    "Heat dissipation application note:\n",
    "> https://cdn.sparkfun.com/assets/f/f/b/4/2/SX1262_AN-Recommendations_for_Best_Performance.pdf"
   ]
  },
  {
   "cell_type": "code",
   "execution_count": null,
   "id": "1d587aec-0fd4-4bc0-b480-89d0c94817a6",
   "metadata": {},
   "outputs": [],
   "source": []
  }
 ],
 "metadata": {
  "kernelspec": {
   "display_name": "Python 3 (ipykernel)",
   "language": "python",
   "name": "python3"
  },
  "language_info": {
   "codemirror_mode": {
    "name": "ipython",
    "version": 3
   },
   "file_extension": ".py",
   "mimetype": "text/x-python",
   "name": "python",
   "nbconvert_exporter": "python",
   "pygments_lexer": "ipython3",
   "version": "3.10.12"
  }
 },
 "nbformat": 4,
 "nbformat_minor": 5
}
