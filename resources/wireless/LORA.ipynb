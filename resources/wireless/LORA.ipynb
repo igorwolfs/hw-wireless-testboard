{
 "cells": [
  {
   "cell_type": "markdown",
   "id": "c231722f-c6d7-4d26-a5b8-6e9fbf772bcd",
   "metadata": {},
   "source": [
    "# Design"
   ]
  },
  {
   "cell_type": "markdown",
   "id": "4cb3ac35-336c-4f4d-9d4f-8d73c601d221",
   "metadata": {},
   "source": [
    "# LORA Modules"
   ]
  },
  {
   "cell_type": "markdown",
   "id": "26bb95ec-9a38-42bb-9717-99a7eb264354",
   "metadata": {},
   "source": [
    "## Building a gateway\n",
    "The main problem with a gateway is the sx130x-chip requirement. (https://www.thethingsnetwork.org/forum/t/creating-a-lorawan-gatway-from-esp32/66580) since the lorawan specifications require at least 8 channels with concurrent demodulation support and concurrent message handling is possible."
   ]
  },
  {
   "cell_type": "markdown",
   "id": "defec493-dcc4-4f14-9393-aff14fa46722",
   "metadata": {},
   "source": [
    "## LoRa module types\n",
    "LoRa is patented by semtech. That is the chirp signal modulation and demodulation.\n",
    "### Semtech\n",
    "Under the semtech-denominator there are a couple of modules integrating the semtech-LoRa modules: \\\n",
    "-> SX1276, SX1278 \\\n",
    "Such as:\n",
    "-> Microchip R \\\n",
    "### Microchip\n",
    "-> RN2483\n",
    "\n",
    "### STM32\n",
    "-> STM32WL-series, worked out through cooperation with semtech based on the sx126x semtech-series\n",
    "\n",
    "### HopeRF\n",
    "low-cost LoRa modules.\n",
    "\n",
    "### RAKWireless\n",
    "LoRaWan module based on Semtech S1276"
   ]
  },
  {
   "cell_type": "markdown",
   "id": "655e603e-75bf-42a7-8073-9e4e8df6cac8",
   "metadata": {},
   "source": [
    "## DL-LLCC68-S\n",
    "A bit unclear, but it seems like these modules cover a spectrum from 150 - 960 MHz."
   ]
  },
  {
   "cell_type": "code",
   "execution_count": null,
   "id": "2d40e8c8-7b3b-4be4-826e-495c7237bac2",
   "metadata": {},
   "outputs": [],
   "source": []
  },
  {
   "cell_type": "markdown",
   "id": "4158dee7-b991-4992-9322-af49b7996276",
   "metadata": {},
   "source": [
    "**Sources:**\n",
    "> https://patents.google.com/patent/US8406275B2/en \\\n",
    "ElektorMag - LoRaWan options\n",
    "> https://sps.mesago.com/content/dam/messefrankfurt-mesago/sps/2023/documents/pdf/en/EN2023011_compressed.pdf\n",
    "\n"
   ]
  }
 ],
 "metadata": {
  "kernelspec": {
   "display_name": "Python 3 (ipykernel)",
   "language": "python",
   "name": "python3"
  },
  "language_info": {
   "codemirror_mode": {
    "name": "ipython",
    "version": 3
   },
   "file_extension": ".py",
   "mimetype": "text/x-python",
   "name": "python",
   "nbconvert_exporter": "python",
   "pygments_lexer": "ipython3",
   "version": "3.10.12"
  }
 },
 "nbformat": 4,
 "nbformat_minor": 5
}
