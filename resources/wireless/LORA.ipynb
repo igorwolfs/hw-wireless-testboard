{
 "cells": [
  {
   "cell_type": "markdown",
   "id": "c231722f-c6d7-4d26-a5b8-6e9fbf772bcd",
   "metadata": {},
   "source": [
    "# Design"
   ]
  },
  {
   "cell_type": "markdown",
   "id": "4cb3ac35-336c-4f4d-9d4f-8d73c601d221",
   "metadata": {},
   "source": [
    "# LORA Modules"
   ]
  },
  {
   "cell_type": "markdown",
   "id": "defec493-dcc4-4f14-9393-aff14fa46722",
   "metadata": {},
   "source": [
    "## LoRa module types\n",
    "LoRa is patented by semtech. That is the chirp signal modulation and demodulation.\n",
    "### Semtech\n",
    "Under the semtech-denominator there are a couple of modules integrating the semtech-LoRa modules: \\\n",
    "-> SX1276, SX1278 \\\n",
    "Such as:\n",
    "-> Microchip R \\\n",
    "### Microchip\n",
    "-> RN2483\n",
    "\n",
    "### STM32\n",
    "-> STM32WL-series, worked out through cooperation with semtech based on the sx126x semtech-series\n",
    "\n",
    "### HopeRF\n",
    "low-cost LoRa modules.\n",
    "\n",
    "### RAKWireless\n",
    "LoRaWan module based on Semtech S1276"
   ]
  },
  {
   "cell_type": "markdown",
   "id": "655e603e-75bf-42a7-8073-9e4e8df6cac8",
   "metadata": {},
   "source": [
    "## DL-LLCC68-S\n",
    "A bit unclear, but it seems like these modules cover a spectrum from 150 - 960 MHz."
   ]
  },
  {
   "cell_type": "markdown",
   "id": "4158dee7-b991-4992-9322-af49b7996276",
   "metadata": {},
   "source": [
    "**Sources:**\n",
    "> https://patents.google.com/patent/US8406275B2/en\n",
    "> "
   ]
  }
 ],
 "metadata": {
  "kernelspec": {
   "display_name": "Python 3 (ipykernel)",
   "language": "python",
   "name": "python3"
  },
  "language_info": {
   "codemirror_mode": {
    "name": "ipython",
    "version": 3
   },
   "file_extension": ".py",
   "mimetype": "text/x-python",
   "name": "python",
   "nbconvert_exporter": "python",
   "pygments_lexer": "ipython3",
   "version": "3.10.12"
  }
 },
 "nbformat": 4,
 "nbformat_minor": 5
}
