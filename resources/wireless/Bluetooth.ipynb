{
 "cells": [
  {
   "cell_type": "markdown",
   "id": "49f82dd9-a847-4f81-8ab4-672a8ad0bf90",
   "metadata": {},
   "source": [
    "# Bluetooth"
   ]
  },
  {
   "cell_type": "markdown",
   "id": "edeb1348-1c80-4e8c-a05a-6b5d98ef5eb3",
   "metadata": {},
   "source": [
    "# Modules"
   ]
  },
  {
   "cell_type": "markdown",
   "id": "62afbe32-4e9f-41ed-824c-bfebb6c524cd",
   "metadata": {},
   "source": [
    "## CH582M"
   ]
  },
  {
   "cell_type": "markdown",
   "id": "0f6da016-2796-4f74-aa32-b8e46c936c96",
   "metadata": {},
   "source": [
    "### Features\n",
    "- RISC-V4C core - 32-bit\n",
    "- Flash: 448 kB\n",
    "- bootloader: 24 kB\n",
    "- Programming with: ICP, ISP, IAP, OTA upgrade"
   ]
  },
  {
   "cell_type": "markdown",
   "id": "743622ce-6aae-440b-86a8-f9b08e97c309",
   "metadata": {},
   "source": [
    "### Communication\n",
    "#### UART\n",
    "**UART2**:\n",
    "- (p4, p25, p26, p38) UART2_TX/RX\n",
    "\n",
    "**UART1:**\n",
    "- (p5, p6) UART1_RX/TX\n",
    "\n",
    "**UART0:**\n",
    "- (p11, p12, p18, p19, p21, p22, p23, p24) RS3232 - hardware automatic flow control, Matching salve address for multi-device communication (RS232)\n",
    "- (p17, p44, p20, p43): UART2_RX/TX\n",
    "\n",
    "#### SPI\n",
    "**SPI0:**\n",
    "- (p11, p12, p13, p14): SPI0 - (MISO, MOSI, SCK, SS)\n",
    "\n",
    "**SPI0:**\n",
    "- (p39, p40, p41): SPI1: (SCK, MOSI, MISO)\n",
    "-  \n",
    "\n",
    "#### USB\n",
    "**USB2.0:**\n",
    "- (p13, p14): USB2 - (D+, D-)"
   ]
  },
  {
   "cell_type": "markdown",
   "id": "2ae0ae5e-e59e-46c3-ac6c-170303f4f7e4",
   "metadata": {},
   "source": [
    "### Power\n",
    "<img src=\"../images/wireless/ble_ch582m_power.png\" width=750 />"
   ]
  },
  {
   "cell_type": "markdown",
   "id": "f299b132-a69d-4b09-bbc0-99312078b66d",
   "metadata": {},
   "source": [
    "- (p1) VDCID: LDO regulator power input, 2.2 uF decoupling cap,\n",
    "- (p2) VSW: DC-DC switch output, inductor (3.3uH - 33 uH) connected to VDCID\n",
    "- (p3) VDD33/VIO33: DC-DC power input + I/O power input (requires 1-2.2uF in case of DC-DC)\n",
    "- (p33) VINTA: When DC-DC enabled, 0.47-2.2uF decoupling necessary\n",
    "- (p35) VDCIA: Analog LDO input, capacitor of >0.1uF recommended"
   ]
  },
  {
   "cell_type": "markdown",
   "id": "ab0fee05-c60e-4213-bdcf-aae850bf74ee",
   "metadata": {},
   "source": [
    "### Oscillators\n",
    "Both the LF, and the HF clock can be used to driver the system clock.\n",
    "#### 32 kHz oscillator\n",
    "- (p47, p48) X32KO, X32KI: 32 kHz crystal oscillator connections.\n",
    "- Built-in load capacitance change:\n",
    "    - RB_XT32K_C_LOAD + 12pF (so 12 - 27 pF)\n",
    " \n",
    "We can honestly skip this one, as there is no neccessity for testing an accurate RTC for now.\n",
    "#### 32 MHz oscillator\n",
    "- (p31, p32) X32MO, 32MI: 32 MHz crystal oscillator connections.\n",
    "- Built-in load capacitance tuning:\n",
    "    - RB_XT32M_C_LOAD*2 + 10pF (so 10-24 pF)\n",
    "(For calculation see LORA notebook)\n",
    "#### Internal oscillators\n",
    "- LSI: might be muxed into use for things like RTC, USB, .."
   ]
  },
  {
   "cell_type": "markdown",
   "id": "7ad8a1ac-8de6-4e47-89bf-c459bef68556",
   "metadata": {},
   "source": [
    "### Flashing\n",
    "#### SWD Debug interface\n",
    "- (p11, p12) TCK, TIO serial data in/out simulation debug interface\n",
    "- TIO: built-in pull-up\n",
    "- (p25): RST external reset input, active low (so nReset). Built-in pull-up"
   ]
  },
  {
   "cell_type": "markdown",
   "id": "242d3d9b-46ae-47cb-92a5-eb55fe97e673",
   "metadata": {},
   "source": [
    "### GPIO selection\n",
    "**Regular GPIO's:**\n",
    "- p43 UART rx0, p44 uart tx0\n",
    "\n",
    "**SWD**\n",
    "- 11: TCK, 12: TIO (2)\n",
    "\n",
    "Total: 22 pins"
   ]
  },
  {
   "cell_type": "code",
   "execution_count": null,
   "id": "fcb44a99-df69-40ed-9cc5-dd7c0f9a9854",
   "metadata": {},
   "outputs": [],
   "source": []
  },
  {
   "cell_type": "code",
   "execution_count": null,
   "id": "cce121fc-addc-4232-b4dc-b6f135267fb4",
   "metadata": {},
   "outputs": [],
   "source": []
  }
 ],
 "metadata": {
  "kernelspec": {
   "display_name": "Python 3 (ipykernel)",
   "language": "python",
   "name": "python3"
  },
  "language_info": {
   "codemirror_mode": {
    "name": "ipython",
    "version": 3
   },
   "file_extension": ".py",
   "mimetype": "text/x-python",
   "name": "python",
   "nbconvert_exporter": "python",
   "pygments_lexer": "ipython3",
   "version": "3.10.12"
  }
 },
 "nbformat": 4,
 "nbformat_minor": 5
}
