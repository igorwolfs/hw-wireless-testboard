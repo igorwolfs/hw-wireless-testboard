{
 "cells": [
  {
   "cell_type": "markdown",
   "id": "49f82dd9-a847-4f81-8ab4-672a8ad0bf90",
   "metadata": {},
   "source": [
    "# Bluetooth"
   ]
  },
  {
   "cell_type": "markdown",
   "id": "edeb1348-1c80-4e8c-a05a-6b5d98ef5eb3",
   "metadata": {},
   "source": [
    "# Modules"
   ]
  },
  {
   "cell_type": "markdown",
   "id": "62afbe32-4e9f-41ed-824c-bfebb6c524cd",
   "metadata": {},
   "source": [
    "## CH582M"
   ]
  },
  {
   "cell_type": "markdown",
   "id": "0f6da016-2796-4f74-aa32-b8e46c936c96",
   "metadata": {},
   "source": [
    "### Features\n",
    "- RISC-V4C core - 32-bit\n",
    "- Flash: 448 kB\n",
    "- bootloader: 24 kB\n",
    "- Programming with: ICP, ISP, IAP, OTA upgrade"
   ]
  },
  {
   "cell_type": "code",
   "execution_count": null,
   "id": "bf58f34b-d8ed-44a3-8570-715025a33b7e",
   "metadata": {},
   "outputs": [],
   "source": []
  },
  {
   "cell_type": "code",
   "execution_count": null,
   "id": "370162a7-26de-43ec-be78-ade34c555fe5",
   "metadata": {},
   "outputs": [],
   "source": []
  }
 ],
 "metadata": {
  "kernelspec": {
   "display_name": "Python 3 (ipykernel)",
   "language": "python",
   "name": "python3"
  },
  "language_info": {
   "codemirror_mode": {
    "name": "ipython",
    "version": 3
   },
   "file_extension": ".py",
   "mimetype": "text/x-python",
   "name": "python",
   "nbconvert_exporter": "python",
   "pygments_lexer": "ipython3",
   "version": "3.10.12"
  }
 },
 "nbformat": 4,
 "nbformat_minor": 5
}
