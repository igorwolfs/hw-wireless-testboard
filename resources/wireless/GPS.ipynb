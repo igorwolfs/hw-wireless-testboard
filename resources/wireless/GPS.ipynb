{
 "cells": [
  {
   "cell_type": "markdown",
   "id": "7d8b8b59-5552-48ab-bfe3-ae082ec1f50d",
   "metadata": {},
   "source": [
    "# Design"
   ]
  },
  {
   "cell_type": "markdown",
   "id": "acd30a4d-f93e-4f7e-af6d-eb8bc4c21619",
   "metadata": {},
   "source": [
    "# GNNS Modules"
   ]
  },
  {
   "cell_type": "markdown",
   "id": "655119d7-6a51-4d68-8b8f-f7f0e0a443ed",
   "metadata": {},
   "source": [
    "## ATGM332D-5N31"
   ]
  },
  {
   "cell_type": "markdown",
   "id": "3cdfdbc3-b945-4670-9f9a-cf1cb57d7a26",
   "metadata": {},
   "source": [
    "### Properties\n",
    "**GNSS**:\n",
    "GPS, BDS: l1, 1575,42 MHz; b1, 1561,098 MHz\n",
    "\n",
    "**Communication**\n",
    "- TXD1, RXD1: Communication happens through UART according to the NMEA0183-protocol.\n",
    "- SDA, SCL: I2C data interface\n",
    "- TXD2, RXD2: auxiliary serial data output.\\\n",
    "  \n",
    "-> Route all these to relevant output connectors on the testboard\n",
    "\n",
    "**Input power: VBAT (RTC / SRAM supply), VCC (power input)**: 3.3 V \\\n",
    "-> Supply from external pin and put LDO in between\n",
    "\n",
    "**Output power (VCC_RF)**: 3.3 V \\\n",
    "-> Connect to external LNA (use passive antenna)\n",
    "\n",
    "**nReset**: Floating when not in use, pull-down when reset \\\n",
    "-> Connect to power supply with button (high by default high)\n",
    "\n",
    "**RFin: antenna signal input** \\\n",
    "-> Connect to LNA, assure yourself of correct impedance matching\n",
    "\n",
    "**PPS**: +- 100 ms pulse every second of which the rising edge is aligned with UTC time. \\\n",
    "-> Connect to external pin\n",
    "### Electrical parameters\n",
    "**Logic Input**: high / low: (.7/.2)Vcc \\\n",
    "**Logic Output**: high / low: (Vcc-0.5, .4Vcc) \\\n",
    "**Antenna gain (input)**: 15-30 dB"
   ]
  },
  {
   "cell_type": "markdown",
   "id": "f8c67a97-2fb8-4f2d-8617-4b0457527675",
   "metadata": {},
   "source": [
    "### Module diagram\n",
    "<img src=\"../images/wireless/gps_ATGM332D_module_diagram.png\" width=600 />"
   ]
  },
  {
   "cell_type": "markdown",
   "id": "f0db100f-f0c0-4f7a-bad3-4e28dfdd08c0",
   "metadata": {},
   "source": [
    "### Advised passive circuitry\n",
    "- AT2659 LNA\n",
    "- 6.9 nH, 470 pF output impedance matching.\n",
    "- 0.1 uF decoupling capacitor\n",
    "\n",
    "<img src=\"../images/wireless/gps_ATGM332D_passive_schematic.png\" width=800 />"
   ]
  },
  {
   "cell_type": "markdown",
   "id": "6e331d27-6d9a-42f9-9a38-0b435c5187c7",
   "metadata": {},
   "source": [
    "# LNA"
   ]
  },
  {
   "cell_type": "markdown",
   "id": "8e364bc7-993b-451d-b419-2b79f17ac5a3",
   "metadata": {},
   "source": [
    "## AT2659\n",
    "### Properties\n",
    "**Input P1DB**: -14 dBm \\\n",
    "**Input IP3**: -5 dBm \\\n",
    "**Power gain**: 20 dB \\\n",
    "**Working frequency**: 1550-1615 MHz \\\n",
    "**Current consumption**: 4.3 mA \\\n",
    "**Impedance Matching**: internally 50 ohms \\\n",
    "**Noise**: 1 dB max \n",
    "### Peripheral components\n",
    "* Bypass capacitor, input matching and DC-block capacitor \\\n",
    "-> Make sure to check the HF characteristics for these components"
   ]
  },
  {
   "cell_type": "markdown",
   "id": "db9a4ef3-3903-40c7-84c7-8181aeda8a68",
   "metadata": {},
   "source": [
    "Signal strength after passing through antenna: \n",
    "* $P_{gain} = 10×log (P_{out} / P_{in})$ \\\n",
    "Example:\n",
    "* If an antenna gain is 2 dBi\n",
    "* The amplifier gain is 20 dB, which means the total gain becomes $20 + 2 = 22$\n",
    "* Input power should be multiplied with amplification power: $P_{input}*P_{amp}$ ->  $20*log(P_{input}*P_{amp}) = 20*log(P_{input}) + 20*log(P_{amp})$"
   ]
  },
  {
   "cell_type": "markdown",
   "id": "de3b2289-9dfa-47a4-aab9-c350f8d722e7",
   "metadata": {},
   "source": [
    "# RF Switch"
   ]
  },
  {
   "cell_type": "markdown",
   "id": "f657f5a2-ff86-48d4-be48-2100cf431960",
   "metadata": {},
   "source": [
    "## PE4259"
   ]
  },
  {
   "cell_type": "markdown",
   "id": "c13e25d7-bf67-41fb-8722-c0d317d1a13d",
   "metadata": {},
   "source": [
    "### Properties\n",
    "**Frequency Range**: 3 GHz \\\n",
    "**Insertion loss**: 0.35 dB \\\n",
    "**Isolation**: 30 dB \\\n",
    "\n",
    "\n",
    "### Peripheral components\n",
    "* No DC blocking capacitor, use 2x0.5pF capacitor at RFC input \\"
   ]
  },
  {
   "cell_type": "markdown",
   "id": "16abd2c5-e5dc-4e7a-8e99-70b51d23f6c0",
   "metadata": {},
   "source": [
    "<img src=\"../images/wireless/gps_pe4259.png\" width=400 />"
   ]
  },
  {
   "cell_type": "code",
   "execution_count": null,
   "id": "adc3b376-1f9b-4df8-9da9-567169887bbd",
   "metadata": {},
   "outputs": [],
   "source": []
  },
  {
   "cell_type": "markdown",
   "id": "2cdf1ea4-71a9-42f2-9b0b-18ec034fad13",
   "metadata": {},
   "source": [
    "**Sources:**\n",
    "> TI Antenna selection guide: https://www.ti.com/lit/an/swra161b/swra161b.pdf?ts=17241%2017291346 \\\n",
    "> RF-switch data: https://wmsc.lcsc.com/wmsc/upload/file/pdf/v2/lcsc/1912111437_Skyworks-Solutions-SKY13489-001_C429943.pdf "
   ]
  },
  {
   "cell_type": "markdown",
   "id": "f9d648d2-e4bc-410c-9323-213c814665b1",
   "metadata": {},
   "source": [
    "# Example"
   ]
  },
  {
   "cell_type": "markdown",
   "id": "30fffe39-3a19-48ea-b64a-ab6171910e82",
   "metadata": {},
   "source": [
    "## NEO-M8P"
   ]
  },
  {
   "cell_type": "markdown",
   "id": "d8d649eb-3f32-43b8-8ae3-f78beb40fc21",
   "metadata": {},
   "source": [
    "### Frequencies\n",
    "* GLONASS: 1602 MHz + k*562.5 (k = -7..6), satellite frequency number\n",
    "* BeiDou: 1561.098 MHz, B11 signal broadcast\n",
    "* Galileo: 1559 - 1610 MHz, GPS L1 frequency band (E1-B/C-signals)\n",
    "* GPS: 1575.42 MHz L1C/A signals\n",
    "### Clocks\n",
    "* Oscillator\n",
    "* RTC (driven by 32 kHz clock)\n",
    "### Antenna\n",
    "Designed with passive and active antennas.\n",
    "* 15 dB minimum gain\n",
    "* 50 / 30 dB maximum gain\n",
    "* 1.5 dB maximum noise figure\n",
    "\n",
    "LNA_EN-pin allows to switch off power to the active antenna"
   ]
  },
  {
   "cell_type": "markdown",
   "id": "d3ba9069-71ac-4345-a714-9b60457cd182",
   "metadata": {},
   "source": [
    "## Design recommendations\n",
    "### RF interference\n",
    "Use 2 resistors / ferrite beads (> 33 ohms) as closely as possible to the I/O input of the GNSS antenna for shielding."
   ]
  },
  {
   "cell_type": "markdown",
   "id": "f6cdde17-5b81-4762-b9e6-9d8d531bee09",
   "metadata": {},
   "source": [
    "## Passive antenna design"
   ]
  },
  {
   "cell_type": "markdown",
   "id": "3372807f-389c-4764-82dd-8297c5da43f7",
   "metadata": {},
   "source": [
    "<img src=\"../images/wireless/gps_TFGPS_ublox_hw_integration.png\" width=600 />"
   ]
  },
  {
   "cell_type": "markdown",
   "id": "c2e50773-7317-4b89-88b9-332730f18ce9",
   "metadata": {},
   "source": [
    "## Bandwidth Filter (SAW DBP.1575.W.A.30)\n",
    "### Characteristics\n",
    "<img src=\"../images/wireless/gps_TFGPS_SAW_characteristics.png\" width=400 />\n",
    "\n",
    "#### Impedance\n",
    "\n",
    "Impedance matched to 50 ohms"
   ]
  },
  {
   "cell_type": "markdown",
   "id": "c66d174c-5990-4c5d-b84f-8f91e0321eea",
   "metadata": {},
   "source": [
    "## MAX2655\n"
   ]
  },
  {
   "cell_type": "markdown",
   "id": "30d6e1af-882f-43ea-bcb1-f58f49a012a6",
   "metadata": {},
   "source": [
    "## Antenna\n",
    "### Characteristics\n",
    "<img src=\"../images/wireless/gps_TFGPS_antenna_characteristics.png\" width=400 />"
   ]
  },
  {
   "cell_type": "markdown",
   "id": "9383297c-08b9-4f6f-98bf-9790d4241b15",
   "metadata": {},
   "source": [
    "#### Impedance\n",
    "50 ohms."
   ]
  },
  {
   "cell_type": "markdown",
   "id": "264949b9-50f8-4ed1-b055-61a0a80170c8",
   "metadata": {},
   "source": [
    "## Schematic design\n",
    "<img src=\"../images/wireless/gps_TFGPS_rf_schematic.png\" width=600 />"
   ]
  },
  {
   "cell_type": "markdown",
   "id": "98ecdb32-563f-4c54-ab63-2f08288cece8",
   "metadata": {},
   "source": [
    "### Filtering on RF_POWER line\n",
    "#### Filtering on RF line\n",
    "Possibility for filtering on RF line present, for now however no ferrite placed.\n",
    "\n",
    "#### C11\n",
    "DC-blocking capacitor between filter and amplifier.\n",
    "- Probably to make sure that the RF_IN does not break due to amplification of DC offset from amplifier.\n",
    "\n",
    "#### C14\n",
    "DC blocking capacitor preventing DC signals from making it to the amplifier.\n",
    "\n",
    "#### RF5\n",
    "LP-filter\n",
    "Cutoff frequency: $1/(2*\\pi*sqrt(5.6e-9+1.5e-12)) = 1736 MHz$, additional filtering of antenna input.\n",
    "Could also be external matching to RFIN. (referenced in \"typical operating circuit\".\n",
    "\n",
    "#### BIAS\n",
    "Sets the IP3 (third order intercept) and supply current.\n",
    "Here chosen to be 390 ohms.\n",
    "\n",
    "#### RFOUT\n",
    "DC-bias on the pin selects gain mode. The gain is attenutated by 13 dB.\n",
    "Check tables 1 and 2 of the datasheet for relevant information"
   ]
  },
  {
   "cell_type": "markdown",
   "id": "b263b940-74c2-42f5-b51c-94e39ed74853",
   "metadata": {},
   "source": []
  },
  {
   "cell_type": "code",
   "execution_count": null,
   "id": "7ed1fd4e-cd44-4d50-aeb0-dad534079519",
   "metadata": {},
   "outputs": [],
   "source": []
  },
  {
   "cell_type": "markdown",
   "id": "912e2055-58f2-46ab-ab43-3a8f94f0747f",
   "metadata": {},
   "source": [
    "**Sources**:\n",
    "\n",
    "> Datasheet: https://content.u-blox.com/sites/default/files/NEO-M8-FW3_DataSheet_UBX-15031086.pdf \\\n",
    "> Hardware integration manual: https://content.u-blox.com/sites/default/files/NEO-8Q-NEO-M8-FW3_HIM_UBX-15029985.pdf \\\n",
    "GPS compendium: https://content.u-blox.com/sites/default/files/products/documents/GPS-Compendium_Book_%28GPS-X-02007%29.pdf \\\n",
    "> Bandwidth filter: https://nl.mouser.com/datasheet/2/398/DBP_1575_W_A_30-3400304.pdf  \\\n",
    "> Third-order intercept: https://www.youtube.com/watch?v=m-2H8ddSwTI \\\n",
    "> TI LC filter design: https://www.ti.com/lit/an/slaa701a/slaa701a.pdf?ts=1724088213231&ref_url=https%253A%252F%252Fwww.google.com%252F \\"
   ]
  },
  {
   "cell_type": "code",
   "execution_count": null,
   "id": "a04cce6b-339d-4102-9fc0-414499947957",
   "metadata": {},
   "outputs": [],
   "source": []
  },
  {
   "cell_type": "code",
   "execution_count": null,
   "id": "20575b11-eeee-4fca-a786-11ebf4e352c7",
   "metadata": {},
   "outputs": [],
   "source": []
  }
 ],
 "metadata": {
  "kernelspec": {
   "display_name": "Python 3 (ipykernel)",
   "language": "python",
   "name": "python3"
  },
  "language_info": {
   "codemirror_mode": {
    "name": "ipython",
    "version": 3
   },
   "file_extension": ".py",
   "mimetype": "text/x-python",
   "name": "python",
   "nbconvert_exporter": "python",
   "pygments_lexer": "ipython3",
   "version": "3.10.12"
  }
 },
 "nbformat": 4,
 "nbformat_minor": 5
}
