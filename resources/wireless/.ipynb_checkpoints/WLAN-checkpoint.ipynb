{
 "cells": [
  {
   "cell_type": "markdown",
   "id": "9e2c3069-05e7-4fd9-95a9-70c58d983d45",
   "metadata": {},
   "source": [
    "# WLAN"
   ]
  },
  {
   "cell_type": "markdown",
   "id": "38def366-74d3-4bcb-8b09-01222c20c0f4",
   "metadata": {},
   "source": [
    "# "
   ]
  },
  {
   "cell_type": "markdown",
   "id": "dc862baa-922d-491a-a80f-449295e60622",
   "metadata": {},
   "source": []
  },
  {
   "cell_type": "markdown",
   "id": "5f8f5b51-a9b5-40f3-9989-a97501634c48",
   "metadata": {},
   "source": []
  },
  {
   "cell_type": "markdown",
   "id": "b6feabe0-952f-4350-bbb6-e1e81f121cdb",
   "metadata": {},
   "source": []
  },
  {
   "cell_type": "code",
   "execution_count": null,
   "id": "d51a8ae6-dba3-4c83-b7a8-62818d02cc12",
   "metadata": {},
   "outputs": [],
   "source": []
  },
  {
   "cell_type": "code",
   "execution_count": null,
   "id": "059aedec-93ba-4be8-8545-9fb42670d00a",
   "metadata": {},
   "outputs": [],
   "source": []
  }
 ],
 "metadata": {
  "kernelspec": {
   "display_name": "Python 3 (ipykernel)",
   "language": "python",
   "name": "python3"
  },
  "language_info": {
   "codemirror_mode": {
    "name": "ipython",
    "version": 3
   },
   "file_extension": ".py",
   "mimetype": "text/x-python",
   "name": "python",
   "nbconvert_exporter": "python",
   "pygments_lexer": "ipython3",
   "version": "3.10.12"
  }
 },
 "nbformat": 4,
 "nbformat_minor": 5
}
