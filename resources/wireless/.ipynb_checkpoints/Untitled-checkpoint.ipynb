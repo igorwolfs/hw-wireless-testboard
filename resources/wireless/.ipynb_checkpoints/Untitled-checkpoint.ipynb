{
 "cells": [
  {
   "cell_type": "markdown",
   "id": "7d8b8b59-5552-48ab-bfe3-ae082ec1f50d",
   "metadata": {},
   "source": [
    "# Design"
   ]
  },
  {
   "cell_type": "markdown",
   "id": "655119d7-6a51-4d68-8b8f-f7f0e0a443ed",
   "metadata": {},
   "source": []
  },
  {
   "cell_type": "code",
   "execution_count": null,
   "id": "558223da-9c81-43e0-a675-fefd06411d43",
   "metadata": {},
   "outputs": [],
   "source": []
  },
  {
   "cell_type": "code",
   "execution_count": null,
   "id": "204fd5d3-7988-43e8-aec8-f28c3e4e3970",
   "metadata": {},
   "outputs": [],
   "source": []
  },
  {
   "cell_type": "markdown",
   "id": "f9d648d2-e4bc-410c-9323-213c814665b1",
   "metadata": {},
   "source": [
    "# Example"
   ]
  },
  {
   "cell_type": "markdown",
   "id": "30fffe39-3a19-48ea-b64a-ab6171910e82",
   "metadata": {},
   "source": [
    "## NEO-M8P"
   ]
  },
  {
   "cell_type": "markdown",
   "id": "d8d649eb-3f32-43b8-8ae3-f78beb40fc21",
   "metadata": {
    "jp-MarkdownHeadingCollapsed": true
   },
   "source": [
    "## General\n",
    "### Frequencies\n",
    "* GLONASS: 1602 MHz + k*562.5 (k = -7..6), satellite frequency number\n",
    "* BeiDou: 1561.098 MHz, B11 signal broadcast\n",
    "* Galileo: 1559 - 1610 MHz, GPS L1 frequency band (E1-B/C-signals)\n",
    "* GPS: 1575.42 MHz L1C/A signals\n",
    "### Other features\n",
    "* Contains an external interrupt pin.\n",
    "* Frequency aiding\n",
    "* RTK\n",
    "### Interfaces\n",
    "* UART\n",
    "* USB\n",
    "* SPI\n",
    "* DDC\n",
    "### Clocks\n",
    "* Oscillator\n",
    "* RTC (driven by 32 kHz clock)\n",
    "## Antenna\n",
    "Designed with passive and active antennas.\n",
    "* 15 dB minimum gain\n",
    "* 50 / 30 dB maximum gain\n",
    "* 1.5 dB maximum noise figure\n",
    "\n",
    "LNA_EN-pin allows to switch off power to the active antenna"
   ]
  },
  {
   "cell_type": "code",
   "execution_count": null,
   "id": "1b575d7c-c071-4648-91b5-c8ee7a7e1d09",
   "metadata": {},
   "outputs": [],
   "source": []
  },
  {
   "cell_type": "code",
   "execution_count": null,
   "id": "fc73f4cb-ed41-49ae-a1ff-9f2d9fc7e66a",
   "metadata": {},
   "outputs": [],
   "source": []
  },
  {
   "cell_type": "markdown",
   "id": "912e2055-58f2-46ab-ab43-3a8f94f0747f",
   "metadata": {},
   "source": [
    "**Sources**:\n",
    "\n",
    "NEO-M8P Datasheet: \\\n",
    "-> https://content.u-blox.com/sites/default/files/NEO-M8-FW3_DataSheet_UBX-15031086.pdf \\\n",
    "GNSS receiver considerations: \\\n",
    "-> https://content.u-blox.com/sites/default/files/products/documents/PowerManagement_AppNote_%28UBX-13005162%29.pdf?utm_content=UBX-13005162 \\\n",
    "Hardware integration manual: \\\n",
    "-> https://content.u-blox.com/sites/default/files/NEO-8Q-NEO-M8-FW3_HIM_UBX-15029985.pdf \\\n",
    "GPS compendium: \\\n",
    "-> https://content.u-blox.com/sites/default/files/products/documents/GPS-Compendium_Book_%28GPS-X-02007%29.pdf"
   ]
  },
  {
   "cell_type": "code",
   "execution_count": null,
   "id": "a04cce6b-339d-4102-9fc0-414499947957",
   "metadata": {},
   "outputs": [],
   "source": []
  }
 ],
 "metadata": {
  "kernelspec": {
   "display_name": "Python 3 (ipykernel)",
   "language": "python",
   "name": "python3"
  },
  "language_info": {
   "codemirror_mode": {
    "name": "ipython",
    "version": 3
   },
   "file_extension": ".py",
   "mimetype": "text/x-python",
   "name": "python",
   "nbconvert_exporter": "python",
   "pygments_lexer": "ipython3",
   "version": "3.10.12"
  }
 },
 "nbformat": 4,
 "nbformat_minor": 5
}
