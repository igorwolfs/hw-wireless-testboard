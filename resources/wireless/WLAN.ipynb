{
 "cells": [
  {
   "cell_type": "markdown",
   "id": "9e2c3069-05e7-4fd9-95a9-70c58d983d45",
   "metadata": {},
   "source": [
    "# WLAN"
   ]
  },
  {
   "cell_type": "markdown",
   "id": "38def366-74d3-4bcb-8b09-01222c20c0f4",
   "metadata": {},
   "source": [
    "# Modules"
   ]
  },
  {
   "cell_type": "markdown",
   "id": "b6feabe0-952f-4350-bbb6-e1e81f121cdb",
   "metadata": {},
   "source": [
    "## ESP8266"
   ]
  },
  {
   "cell_type": "markdown",
   "id": "27b07abd-f6d4-4f27-a1bd-168406563f91",
   "metadata": {},
   "source": []
  },
  {
   "cell_type": "markdown",
   "id": "847a6f82-c57e-41d6-a60c-bbb14d6ec84a",
   "metadata": {},
   "source": []
  },
  {
   "cell_type": "markdown",
   "id": "9c98c344-1726-4fa6-a84a-a78f739512f5",
   "metadata": {},
   "source": []
  },
  {
   "cell_type": "markdown",
   "id": "9f4c40f0-fbf7-48fc-a8cf-daafc8c79dc9",
   "metadata": {},
   "source": []
  },
  {
   "cell_type": "code",
   "execution_count": null,
   "id": "059aedec-93ba-4be8-8545-9fb42670d00a",
   "metadata": {},
   "outputs": [],
   "source": []
  }
 ],
 "metadata": {
  "kernelspec": {
   "display_name": "Python 3 (ipykernel)",
   "language": "python",
   "name": "python3"
  },
  "language_info": {
   "codemirror_mode": {
    "name": "ipython",
    "version": 3
   },
   "file_extension": ".py",
   "mimetype": "text/x-python",
   "name": "python",
   "nbconvert_exporter": "python",
   "pygments_lexer": "ipython3",
   "version": "3.10.12"
  }
 },
 "nbformat": 4,
 "nbformat_minor": 5
}
