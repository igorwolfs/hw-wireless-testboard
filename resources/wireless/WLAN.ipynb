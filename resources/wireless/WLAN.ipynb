{
 "cells": [
  {
   "cell_type": "markdown",
   "id": "9e2c3069-05e7-4fd9-95a9-70c58d983d45",
   "metadata": {},
   "source": [
    "# WLAN"
   ]
  },
  {
   "cell_type": "markdown",
   "id": "38def366-74d3-4bcb-8b09-01222c20c0f4",
   "metadata": {},
   "source": [
    "# Modules"
   ]
  },
  {
   "cell_type": "markdown",
   "id": "b6feabe0-952f-4350-bbb6-e1e81f121cdb",
   "metadata": {},
   "source": [
    "## ESP8266"
   ]
  },
  {
   "cell_type": "markdown",
   "id": "27b07abd-f6d4-4f27-a1bd-168406563f91",
   "metadata": {},
   "source": [
    "### Features\n",
    "- Internal antenna switches, baluns, amplifier, LNA's, filters, PM-modules.\n",
    "- WiFi 802.11 b/g/n\n",
    "- 802.11 n support (2.4 GHz)\n",
    "- BSS\n",
    "- Automatic beacon monitoring"
   ]
  },
  {
   "cell_type": "markdown",
   "id": "847a6f82-c57e-41d6-a60c-bbb14d6ec84a",
   "metadata": {},
   "source": [
    "### Clock\n",
    "#### 32 MHz external clock\n",
    "- Connect to XTAL_IN, XTAL_OUT\n",
    "- Supports 40, 26 and 24 MHz crystal oscillators (use 40 MHz)\n",
    "- crystal precision +- 10ppm"
   ]
  },
  {
   "cell_type": "code",
   "execution_count": 1,
   "id": "0337d7a0-7f47-45e3-bb97-b4713ff67242",
   "metadata": {},
   "outputs": [],
   "source": [
    "### Crystal resonator choice: TZ0308D\n",
    "# Datasheet: https://wmsc.lcsc.com/wmsc/upload/file/pdf/v2/lcsc/1912111437_TST-TZ0308D_C379787.pdf\n",
    "R_SHUNT = 30 #  Ohms\n",
    "C_L = 9e-12 # Load capacitance in F\n",
    "C_shunt = 3e-12 # Shunt capacitance in F\n",
    "f_stability = 10 # PPM\n",
    "f_temp = 10 # PPM\n",
    "f_aging = 2 # PPM per year\n",
    "freq = 32e6 # Frequency in Hz\n",
    "drive_level = 100e-6 # Max in Watts\n",
    "\n",
    "# MCU pin capacitance\n",
    "## Stray capacitanc\n",
    "C_S = 5e-12 # Stray capacitance (pin and board capacitance), assumption"
   ]
  },
  {
   "cell_type": "code",
   "execution_count": 2,
   "id": "3b08c6ee-1852-476a-95e9-c9f81f9c935b",
   "metadata": {},
   "outputs": [
    {
     "name": "stdout",
     "output_type": "stream",
     "text": [
      "Load capacitances: Cl1 8.0pF, Cl2 8.0pF\n"
     ]
    }
   ],
   "source": [
    "### Calcualting necessary load capacitance\n",
    "### Example calculation: ABLS-8.000MHZ-20-B-3-H-T\n",
    "# Assume C_L1 = C_L2\n",
    "C_L1 = (C_L - C_S)*2\n",
    "C_L2 = C_L1\n",
    "print(f\"Load capacitances: Cl1 {C_L1*1e12}pF, Cl2 {C_L2*1e12}pF\")\n",
    "# Load capacitances can simply be set between 11.3-33.4 pF, so OK"
   ]
  },
  {
   "cell_type": "markdown",
   "id": "9f4c40f0-fbf7-48fc-a8cf-daafc8c79dc9",
   "metadata": {},
   "source": [
    "### Power\n",
    "#### Digital\n",
    "- Pin 11, 17: no additional filter caps\n",
    "\n",
    "#### Analog power supply\n",
    "- pin1, 3, 4, 29, 30\n",
    "\n",
    "Necessity for 10 uF and 0.1 "
   ]
  },
  {
   "cell_type": "code",
   "execution_count": null,
   "id": "059aedec-93ba-4be8-8545-9fb42670d00a",
   "metadata": {},
   "outputs": [],
   "source": []
  }
 ],
 "metadata": {
  "kernelspec": {
   "display_name": "Python 3 (ipykernel)",
   "language": "python",
   "name": "python3"
  },
  "language_info": {
   "codemirror_mode": {
    "name": "ipython",
    "version": 3
   },
   "file_extension": ".py",
   "mimetype": "text/x-python",
   "name": "python",
   "nbconvert_exporter": "python",
   "pygments_lexer": "ipython3",
   "version": "3.10.12"
  }
 },
 "nbformat": 4,
 "nbformat_minor": 5
}
